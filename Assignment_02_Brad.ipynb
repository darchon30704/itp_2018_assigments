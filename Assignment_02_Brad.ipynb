{
 "cells": [
  {
   "cell_type": "markdown",
   "metadata": {},
   "source": [
    "# Introduction to Programming (Summer2018)\n",
    "\n",
    "## Assignment 2 (Due date: 02 August 2018, by midnight)",
    "\n",
    "#Moosun Brad Kim"
   ]
  },
  {
   "cell_type": "markdown",
   "metadata": {},
   "source": [
    "### Question 1\n",
    "\n",
    "#### String Handling\n",
    "#### 1.1) \n",
    "Complete the following function which checks whether a DNA sequence is valid. A valid DNA sequence will only contain **'A,a,C,c,G,g,T,t'** characters for this question. If the sequence is valid return **True**, otherwise return **False**.\n",
    "\n",
    "*When running the block, the assert statements will raise errors if your program does not return the correct response.*\n"
   ]
  },
  {
   "cell_type": "code",
   "execution_count": 13,
   "metadata": {},
   "outputs": [],
   "source": [
    "def validity_check(sequence):\n",
    "    allowed_chars = set(['A', 'T', 'C','G','a','t','c','g'])\n",
    "    if set(sequence).issubset(allowed_chars):\n",
    "        return True\n",
    "    else:\n",
    "        return False\n",
    "\n",
    "assert validity_check('ACGT') == True, 'validity_check(\"ACGT\") returns False, should return True'\n",
    "assert validity_check('acgt') == True, 'validity_check(\"acgt\") returns False, should return True'\n",
    "assert validity_check('AGUC') == False, 'validity_check(\"AGUC\") returns True, should return False'\n",
    "assert validity_check('PPPP') == False, 'validity_check(\"PPPP\") returns True, should return False'"
   ]
  },
  {
   "cell_type": "markdown",
   "metadata": {},
   "source": [
    "#### 1.2)\n",
    "Complete the following function which will return the reverse complement of a DNA sequence.\n",
    "\n",
    "The reverse complement is calculated by reversing the sequence and substituting: \n",
    "+ 'A' with 'T'\n",
    "+ 'T' with 'A'\n",
    "+ 'G' with 'C'\n",
    "+ 'C' with 'G'\n",
    "\n",
    "EG:\n",
    "```\n",
    "reverse_complement('AATC')\n",
    "\n",
    "step 1 - reverse the sequence:\n",
    "    reverse = 'CTAA'\n",
    "    \n",
    "step 2 - replace the characters with their complement:\n",
    "    'C' -> 'G'\n",
    "    'T' -> 'A'\n",
    "    'A' -> 'T'\n",
    "    'A' -> 'T'\n",
    "    \n",
    "    complement = 'GATT' \n",
    "```\n",
    "\n",
    "*When running the block, the assert statements will raise errors if your program does not return the correct response.*"
   ]
  },
  {
   "cell_type": "code",
   "execution_count": 61,
   "metadata": {},
   "outputs": [],
   "source": [
    "def reverse_complement(sequence):\n",
    "    complement=[]\n",
    "#    print(sequence)\n",
    "    sequence =sequence[::-1]\n",
    "#    str.replace(str(sequence), \"A\",\"T\")\n",
    "#    str.replace(str(sequence), \"C\",\"G\")\n",
    "#    print(sequence)\n",
    "#    return sequence\n",
    "    complement = {'A': 'T', 'C': 'G', 'G': 'C', 'T': 'A', 'a': 't', 'c': 'g', 'g': 'c', 't': 'a'}\n",
    "    sequence = [complement[base] for base in sequence]\n",
    "    return ''.join(sequence)\n",
    "    print(sequence)\n",
    "#def complement(s): \n",
    "#    basecomplement = {'A': 'T', 'C': 'G', 'G': 'C', 'T': 'A'} \n",
    "#    letters = list(s) \n",
    "#    letters = [basecomplement[base] for base in letters] \n",
    "#    return ''.join(letters)\n",
    "\n",
    "\n",
    "\n",
    "assert reverse_complement('AAGCT') == 'AGCTT', 'reverse_complement(\"AAGCT\") should return \"AGCTT\"'\n",
    "assert reverse_complement('tggca') in ['tgcca','TGCCA'], 'reverse_complement(\"tggca\") should return \"tgcca\"'"
   ]
  },
  {
   "cell_type": "markdown",
   "metadata": {},
   "source": [
    "#### 1.3)\n",
    "\n",
    "Write a script which will allow a user to input multiple DNA sequences one at a time. You do not know how many in advance and should take this into account. Your code will then check if the sequence is valid and return the reverse complement if it is. If the sequence is not valid, print an error message alerting the user to this.\n",
    "\n",
    "It would be a good idea to use the functions you created in 1.1 and 1.2\n",
    "\n",
    "```\n",
    "PSEUDOCODE:\n",
    "loop until '' is entered:\n",
    "    prompt user for a new seq\n",
    "    if seq is valid:\n",
    "        output reverse complement\n",
    "    else\n",
    "        output error message indicating that sequence was invalid\n",
    "```"
   ]
  },
  {
   "cell_type": "code",
   "execution_count": 64,
   "metadata": {},
   "outputs": [
    {
     "name": "stdout",
     "output_type": "stream",
     "text": [
      "Enter sequence1:atcg\n",
      "Enter sequence2:tagg\n",
      "atcg tagg\n"
     ]
    }
   ],
   "source": [
    "def validity_check(sequence):\n",
    "    allowed_chars = set(['A', 'T', 'C','G','a','t','c','g'])\n",
    "    if set(sequence).issubset(allowed_chars):\n",
    "        pass\n",
    "    else:\n",
    "        print('sequence was invalid')\n",
    "def reverse_complement(sequence):\n",
    "    complement=[]\n",
    "\n",
    "    sequence =sequence[::-1]\n",
    "    complement = {'A': 'T', 'C': 'G', 'G': 'C', 'T': 'A', 'a': 't', 'c': 'g', 'g': 'c', 't': 'a'}\n",
    "    sequence = [complement[base] for base in sequence]\n",
    "    return ''.join(sequence)\n",
    "    print(sequence)\n",
    "sequence1=input('Enter sequence1:')\n",
    "sequence2=input('Enter sequence2:')\n",
    "\n",
    "validity_check(sequence1)\n",
    "validity_check(sequence2)\n",
    "reverse_complement(sequence1)\n",
    "reverse_complement(sequence2)\n",
    "print(sequence1, sequence2)"
   ]
  },
  {
   "cell_type": "markdown",
   "metadata": {},
   "source": [
    "### Question 2\n",
    "\n",
    "In cryptography there are many ways to code messages. An easy method is to shift the alphabet by a given amount, this is known as a Caesar Cipher http://practicalcryptography.com/ciphers/caesar-cipher/.\n",
    "\n",
    "EG:\n",
    "\n",
    "Shift|A|B|C|D|E|F|G|H|I|J|K|L|M|N|O|P|Q|R|S|T|U|V|W|X|Y|Z|\n",
    "-|-|-|-|-|-|-|-|-|-|-|-|-|-|-|-|-|-|-|-|-|-|-|-|-|-|-|\n",
    "1|B|C|D|E|F|G|H|I|J|K|L|M|N|O|P|Q|R|S|T|U|V|W|X|Y|Z|A|\n",
    "2|C|D|E|F|G|H|I|J|K|L|M|N|O|P|Q|R|S|T|U|V|W|X|Y|Z|A|B|\n",
    "10|K|L|M|N|O|P|Q|R|S|T|U|V|W|X|Y|Z|A|B|C|D|E|F|G|H|I|J|\n",
    "\n",
    "In the case of using an alphabet which has been shifted by 1, 'A' will be replaced with 'B', 'B' will be replaced with 'C', ..., 'Z' is replaced with 'A'.\n",
    "\n",
    "#### 2.1)\n",
    "Complete the following function which takes a string and an integer which represents the shift and returns an encoded string."
   ]
  },
  {
   "cell_type": "code",
   "execution_count": 84,
   "metadata": {},
   "outputs": [
    {
     "name": "stdout",
     "output_type": "stream",
     "text": [
      "65\n",
      "1\n",
      "66\n",
      "1\n",
      "67\n",
      "1\n",
      "68\n",
      "1\n",
      "70\n",
      "3\n",
      "79\n",
      "3\n",
      "79\n",
      "3\n",
      "66\n",
      "3\n",
      "65\n",
      "3\n",
      "82\n",
      "3\n",
      "88\n",
      "5\n",
      "89\n",
      "5\n",
      "90\n",
      "5\n"
     ]
    }
   ],
   "source": [
    "def encode_string(message, shift=5):\n",
    "    secret = \"\"\n",
    "    for c in message:\n",
    "        if c in \"ABCDEFGHIJKLMNOPQRSTUVWXYZ\":\n",
    "            num = ord(c)\n",
    "            print(num)\n",
    "            print(shift)\n",
    "            num += shift\n",
    "            if num > ord(\"Z\"):     # wrap if necessary\n",
    "                num -= 26\n",
    "            elif num < ord(\"A\"):\n",
    "                num += 26\n",
    "            secret = secret + chr(num)\n",
    "        else:\n",
    "            # don't modify any non-letters in the message; just add them as-is\n",
    "            secret = secret + c\n",
    "    return secret\n",
    "\n",
    "assert encode_string('ABCD', 1) == 'BCDE', \"encode_string('ABCD', 1) should return 'BCDE'\"\n",
    "assert encode_string('FOOBAR', 3) == 'IRREDU', \"encode_string('FOOBAR', 3) should return 'IRREDU'\"\n",
    "assert encode_string('XYZ') == 'CDE', \"encode_string('XYZ', 3) should return 'CDE'\""
   ]
  },
  {
   "cell_type": "markdown",
   "metadata": {},
   "source": [
    "#### 2.2)\n",
    "\n",
    "Complete the following function which takes a string and an integer which represents the shift and returns the decoded message"
   ]
  },
  {
   "cell_type": "code",
   "execution_count": 89,
   "metadata": {},
   "outputs": [
    {
     "name": "stdout",
     "output_type": "stream",
     "text": [
      "77\n",
      "10\n",
      "78\n",
      "10\n",
      "79\n",
      "10\n",
      "80\n",
      "5\n",
      "89\n",
      "5\n",
      "84\n",
      "5\n",
      "72\n",
      "5\n",
      "79\n",
      "5\n",
      "78\n",
      "5\n",
      "65\n",
      "1\n",
      "66\n",
      "1\n",
      "67\n",
      "1\n",
      "68\n",
      "1\n",
      "66\n",
      "1\n",
      "67\n",
      "1\n",
      "68\n",
      "1\n",
      "69\n",
      "1\n",
      "70\n",
      "3\n",
      "79\n",
      "3\n",
      "79\n",
      "3\n",
      "66\n",
      "3\n",
      "65\n",
      "3\n",
      "82\n",
      "3\n",
      "73\n",
      "3\n",
      "82\n",
      "3\n",
      "82\n",
      "3\n",
      "69\n",
      "3\n",
      "68\n",
      "3\n",
      "85\n",
      "3\n",
      "88\n",
      "5\n",
      "89\n",
      "5\n",
      "90\n",
      "5\n",
      "67\n",
      "5\n",
      "68\n",
      "5\n",
      "69\n",
      "5\n"
     ]
    }
   ],
   "source": [
    "def decode_string(message, shift=5):\n",
    "    secret = \"\"\n",
    "    for c in message:\n",
    "        if c in \"ABCDEFGHIJKLMNOPQRSTUVWXYZ\":\n",
    "            num = ord(c)\n",
    "            print(num)\n",
    "            print(shift)\n",
    "            num -= shift\n",
    "            if num > ord(\"Z\"):     # wrap if necessary\n",
    "                num -= 26\n",
    "            elif num < ord(\"A\"):\n",
    "                num += 26\n",
    "            secret = secret + chr(num)\n",
    "        else:\n",
    "            # don't modify any non-letters in the message; just add them as-is\n",
    "            secret = secret + c\n",
    "    return secret\n",
    "    return message\n",
    "\n",
    "assert decode_string('MNO', 10) == 'CDE', \"decode_string('MNO', 10) should return 'CDE'\"\n",
    "assert decode_string('PYTHON') == 'KTOCJI', \"decode_string('PYTHON') should return 'KTOCJI'\"\n",
    "\n",
    "assert decode_string(encode_string('ABCD', 1), 1) == 'ABCD', \"decode_string(encode_string('ABCD', 1), 1) should return 'ABCD'\"\n",
    "assert decode_string(encode_string('FOOBAR', 3), 3) == 'FOOBAR', \"decode_string(encode_string('FOOBAR', 3), 3) should return 'FOOBAR'\"\n",
    "assert decode_string(encode_string('XYZ')) == 'XYZ', \"decode_string(encode_string('XYZ')) should return 'XYZ'\""
   ]
  },
  {
   "cell_type": "markdown",
   "metadata": {},
   "source": [
    "### Question 3\n",
    "\n",
    "Write code which will reproduce each of the following patterns given an input size N\n",
    "\n",
    "Example:\n",
    "\n",
    "```\n",
    "N = 10\n",
    "\n",
    " x x x x x x x x x x\n",
    " x o x o x o x o x o\n",
    " x x x x x x x x x x\n",
    " x o x o x o x o x o\n",
    " x x x x x x x x x x\n",
    " x o x o x o x o x o\n",
    " x x x x x x x x x x\n",
    " x o x o x o x o x o\n",
    " x x x x x x x x x x\n",
    " x o x o x o x o x o\n",
    "\n",
    "```"
   ]
  },
  {
   "cell_type": "code",
   "execution_count": 93,
   "metadata": {},
   "outputs": [
    {
     "name": "stdout",
     "output_type": "stream",
     "text": [
      " x x x x x x x x x x\n",
      " o o o o o o o o o o\n",
      " x x x x x x x x x x\n",
      " o o o o o o o o o o\n",
      " x x x x x x x x x x\n",
      " o o o o o o o o o o\n",
      " x x x x x x x x x x\n",
      " o o o o o o o o o o\n",
      " x x x x x x x x x x\n",
      " o o o o o o o o o o\n"
     ]
    }
   ],
   "source": [
    "N = 10\n",
    "pattern = [[' o' for x in range(N)] for y in range(N)]\n",
    "\n",
    "for j in range(N):\n",
    "    for i in range(N):\n",
    "        if j%2 == 0:\n",
    "            pattern[j][i] = ' x'\n",
    "\n",
    "for row in pattern:\n",
    "    print(''.join(row))"
   ]
  },
  {
   "cell_type": "markdown",
   "metadata": {},
   "source": [
    "#### 3.1)\n",
    "\n",
    "```\n",
    "N = 10\n",
    "\n",
    " x x x x x x x x x x\n",
    " x o o o o o o o o x\n",
    " x o o o o o o o o x\n",
    " x o o o o o o o o x\n",
    " x o o o o o o o o x\n",
    " x o o o o o o o o x\n",
    " x o o o o o o o o x\n",
    " x o o o o o o o o x\n",
    " x o o o o o o o o x\n",
    " x x x x x x x x x x\n",
    "```"
   ]
  },
  {
   "cell_type": "code",
   "execution_count": 95,
   "metadata": {},
   "outputs": [
    {
     "name": "stdout",
     "output_type": "stream",
     "text": [
      " x x x x x x x x x x\n",
      " x o o o o o o o o x\n",
      " x o o o o o o o o x\n",
      " x o o o o o o o o x\n",
      " x o o o o o o o o x\n",
      " x o o o o o o o o x\n",
      " x o o o o o o o o x\n",
      " x o o o o o o o o x\n",
      " x o o o o o o o o x\n",
      " x x x x x x x x x x\n"
     ]
    }
   ],
   "source": [
    "N = 10\n",
    "pattern = [[' o' for x in range(N)] for y in range(N)]\n",
    "\n",
    "for j in range(N):\n",
    "    for i  in range(N):\n",
    "        if j == 0 or j ==9  or i == 0 or i == 9:\n",
    "            pattern[j][i] = ' x'\n",
    "\n",
    "for row in pattern:\n",
    "    print(''.join(row))"
   ]
  },
  {
   "cell_type": "markdown",
   "metadata": {},
   "source": [
    "#### 3.2)\n",
    "\n",
    "```\n",
    "N = 9\n",
    "\n",
    " x o o o o o o o x\n",
    " o x o o o o o x o\n",
    " o o x o o o x o o\n",
    " o o o x o x o o o\n",
    " o o o o x o o o o\n",
    " o o o x o x o o o\n",
    " o o x o o o x o o\n",
    " o x o o o o o x o\n",
    " x o o o o o o o x\n",
    " \n",
    "N = 10\n",
    "\n",
    " x o o o o o o o o x\n",
    " o x o o o o o o x o\n",
    " o o x o o o o x o o\n",
    " o o o x o o x o o o\n",
    " o o o o x x o o o o\n",
    " o o o o x x o o o o\n",
    " o o o x o o x o o o\n",
    " o o x o o o o x o o\n",
    " o x o o o o o o x o\n",
    " x o o o o o o o o x\n",
    "\n",
    "\n",
    "```"
   ]
  },
  {
   "cell_type": "code",
   "execution_count": 12,
   "metadata": {},
   "outputs": [
    {
     "name": "stdout",
     "output_type": "stream",
     "text": [
      "Input number of rows: 10\n",
      "Input number of columns: 10\n",
      "[[0, 0, 0, 0, 0, 0, 0, 0, 0, 0], [0, 1, 2, 3, 4, 5, 6, 7, 8, 9], [0, 2, 4, 6, 8, 10, 12, 14, 16, 18], [0, 3, 6, 9, 12, 15, 18, 21, 24, 27], [0, 4, 8, 12, 16, 20, 24, 28, 32, 36], [0, 5, 10, 15, 20, 25, 30, 35, 40, 45], [0, 6, 12, 18, 24, 30, 36, 42, 48, 54], [0, 7, 14, 21, 28, 35, 42, 49, 56, 63], [0, 8, 16, 24, 32, 40, 48, 56, 64, 72], [0, 9, 18, 27, 36, 45, 54, 63, 72, 81]]\n"
     ]
    }
   ],
   "source": [
    "row_num =  int(input(\"Input number of rows: \") )\n",
    "col_num = int(input(\"Input number of columns: \"))\n",
    "multi_list = [[0 for col in range(col_num)] for row in range(row_num)]\n",
    "\n",
    "for row in range(row_num):\n",
    "    for col in range(col_num):\n",
    "        multi_list[row][col]= row*col\n",
    "\n",
    "print(multi_list)"
   ]
  },
  {
   "cell_type": "code",
   "execution_count": 47,
   "metadata": {
    "scrolled": false
   },
   "outputs": [
    {
     "name": "stdout",
     "output_type": "stream",
     "text": [
      " x o o o o o o o x\n",
      " o x o o o o o x o\n",
      " o o x o o o x o o\n",
      " o o o x o x o o o\n",
      " o o o o x o o o o\n",
      " o o o x o x o o o\n",
      " o o x o o o x o o\n",
      " o x o o o o o x o\n",
      " x o o o o o o o x\n",
      " x o o o o o o o o x\n",
      " o x o o o o o o x o\n",
      " o o x o o o o x o o\n",
      " o o o x o o x o o o\n",
      " o o o o x x o o o o\n",
      " o o o o x x o o o o\n",
      " o o o x o o x o o o\n",
      " o o x o o o o x o o\n",
      " o x o o o o o o x o\n",
      " x o o o o o o o o x\n"
     ]
    }
   ],
   "source": [
    "N = 9\n",
    "pattern = [[' o' for x in range(N)] for y in range(N)]\n",
    "\n",
    "for j in range(N):\n",
    "    for i in range(N):\n",
    "        if i<9 and j<9 and j==i or j==(8-i):\n",
    "            len(pattern)\n",
    "            pattern[j][i] = ' x'\n",
    "\n",
    "for row in pattern:\n",
    "    print(''.join(row))\n",
    "##\n",
    "\n",
    "N = 10\n",
    "pattern = [[' o' for x in range(N)] for y in range(N)]\n",
    "\n",
    "for j in range(N):\n",
    "    for i in range(N):\n",
    "        if i<10 and j<10 and j==i or j==(9-i):\n",
    "            len(pattern)\n",
    "            pattern[j][i] = ' x'\n",
    "\n",
    "for row in pattern:\n",
    "    print(''.join(row))\n",
    "##"
   ]
  },
  {
   "cell_type": "code",
   "execution_count": 4,
   "metadata": {},
   "outputs": [
    {
     "name": "stdout",
     "output_type": "stream",
     "text": [
      " o o o o o o o o o\n",
      " o o o o o o o o o\n",
      " o o o o o o o o o\n",
      " o o o o o o o o o\n",
      " o o o o o o o o o\n",
      " o o o o o o o o o\n",
      " o o o o o o o o o\n",
      " o o o o o o o o o\n",
      " o o o o o o o o o\n"
     ]
    }
   ],
   "source": [
    "pattern = [[' o' for x in range(N)] for y in range(N)]\n",
    "for row in pattern:\n",
    "    print(''.join(row))"
   ]
  },
  {
   "cell_type": "code",
   "execution_count": 103,
   "metadata": {},
   "outputs": [
    {
     "name": "stdout",
     "output_type": "stream",
     "text": [
      "[[' o', ' o', ' o', ' o', ' o', ' o', ' o', ' o', ' o', ' o'], [' o', ' o', ' o', ' o', ' o', ' o', ' o', ' o', ' o', ' o'], [' o', ' o', ' o', ' o', ' o', ' o', ' o', ' o', ' o', ' o'], [' o', ' o', ' o', ' o', ' o', ' o', ' o', ' o', ' o', ' o'], [' o', ' o', ' o', ' o', ' o', ' o', ' o', ' o', ' o', ' o'], [' o', ' o', ' o', ' o', ' o', ' o', ' o', ' o', ' o', ' o'], [' o', ' o', ' o', ' o', ' o', ' o', ' o', ' o', ' o', ' o'], [' o', ' o', ' o', ' o', ' o', ' o', ' o', ' o', ' o', ' o'], [' o', ' o', ' o', ' o', ' o', ' o', ' o', ' o', ' o', ' o'], [' o', ' o', ' o', ' o', ' o', ' o', ' o', ' o', ' o', ' o']]\n",
      " o o o o o o o o o o\n",
      " o o o o o o o o o o\n",
      " o o o o o o o o o o\n",
      " o o o o o o o o o o\n",
      " o o o o o o o o o o\n",
      " o o o o o o o o o o\n",
      " o o o o o o o o o o\n",
      " o o o o o o o o o o\n",
      " o o o o o o o o o o\n",
      " o o o o o o o o o o\n"
     ]
    }
   ],
   "source": [
    "N = 10\n",
    "pattern = [[' o' for x in range(N)] for y in range(N)]\n",
    "print(pattern)\n",
    "for row in pattern:\n",
    "    print(''.join(row))"
   ]
  },
  {
   "cell_type": "markdown",
   "metadata": {},
   "source": [
    "#### 3.3)\n",
    "\n",
    "```\n",
    "N = 10\n",
    "\n",
    " o x o x o x o x o x\n",
    " x o x o x o x o x o\n",
    " o x o x o x o x o x\n",
    " x o x o x o x o x o\n",
    " o x o x o x o x o x\n",
    " x o x o x o x o x o\n",
    " o x o x o x o x o x\n",
    " x o x o x o x o x o\n",
    " o x o x o x o x o x\n",
    " x o x o x o x o x o\n",
    "\n",
    "```"
   ]
  },
  {
   "cell_type": "code",
   "execution_count": 73,
   "metadata": {},
   "outputs": [
    {
     "name": "stdout",
     "output_type": "stream",
     "text": [
      " o x o x o x o x o x\n",
      " x o x o x o x o x o\n",
      " o x o x o x o x o x\n",
      " x o x o x o x o x o\n",
      " o x o x o x o x o x\n",
      " x o x o x o x o x o\n",
      " o x o x o x o x o x\n",
      " x o x o x o x o x o\n",
      " o x o x o x o x o x\n",
      " x o x o x o x o x o\n"
     ]
    }
   ],
   "source": [
    "N = 10\n",
    "pattern = [[' o' for x in range(N)] for y in range(N)]\n",
    "\n",
    "for j in range(N):\n",
    "    for i in range(N):\n",
    "        if i<11 and j<11 and (j-i==1 or i-j==1) or (j-i==3 or i-j==3) or (j-i==5 or i-j==5) or (j-i==7 or i-j==7) or (j-i==9 or i-j==9):\n",
    "            len(pattern)\n",
    "            pattern[j][i] = ' x'\n",
    "\n",
    "for row in pattern:\n",
    "    print(''.join(row))"
   ]
  },
  {
   "cell_type": "markdown",
   "metadata": {},
   "source": [
    "#### 3.4)\n",
    "\n",
    "```\n",
    "N = 9\n",
    " x x x x x x x x x\n",
    " x x x x o x x x x\n",
    " x x x o o o x x x\n",
    " x x o o o o o x x\n",
    " x o o o o o o o x\n",
    " x x o o o o o x x\n",
    " x x x o o o x x x\n",
    " x x x x o x x x x\n",
    " x x x x x x x x x\n",
    "\n",
    "\n",
    "N = 10\n",
    "\n",
    " x x x x x x x x x x\n",
    " x x x x o o x x x x\n",
    " x x x o o o o x x x\n",
    " x x o o o o o o x x\n",
    " x o o o o o o o o x\n",
    " x o o o o o o o o x\n",
    " x x o o o o o o x x\n",
    " x x x o o o o x x x\n",
    " x x x x o o x x x x\n",
    " x x x x x x x x x x\n",
    "```"
   ]
  },
  {
   "cell_type": "code",
   "execution_count": 108,
   "metadata": {},
   "outputs": [
    {
     "name": "stdout",
     "output_type": "stream",
     "text": [
      " x x x x x x x x x\n",
      " x x x x o x x x x\n",
      " x x x o o o x x x\n",
      " x x o o o o o x x\n",
      " x o o o o o o o x\n",
      " x x o o o o o x x\n",
      " x x x o o o x x x\n",
      " x x x x o x x x x\n",
      " x x x x x x x x x\n",
      "\n",
      "\n",
      " x x x x x x x x x x\n",
      " x x x x o o x x x x\n",
      " x x x o o o o x x x\n",
      " x x o o o o o o x x\n",
      " x o o o o o o o o x\n",
      " x o o o o o o o o x\n",
      " x x o o o o o o x x\n",
      " x x x o o o o x x x\n",
      " x x x x o o x x x x\n",
      " x x x x x x x x x x\n"
     ]
    }
   ],
   "source": [
    "N = 9\n",
    "pattern = [[' x' for x in range(N)] for y in range(N)]\n",
    "\n",
    "for j in range(N):\n",
    "    for i in range(N):\n",
    "        if i<10 and j<10 and (4<j+i<12) and (-4<j-i<4):\n",
    "            len(pattern)\n",
    "            pattern[j][i] = ' o'\n",
    "\n",
    "for row in pattern:\n",
    "    print(''.join(row))\n",
    "\n",
    "print('\\n')\n",
    "\n",
    "N = 10\n",
    "pattern = [[' x' for x in range(N)] for y in range(N)]\n",
    "\n",
    "for j in range(N):\n",
    "    for i in range(N):\n",
    "        if i<11 and j<11 and (4<j+i<14) and (-5<j-i<5):\n",
    "            len(pattern)\n",
    "            pattern[j][i] = ' o'\n",
    "\n",
    "for row in pattern:\n",
    "    print(''.join(row))"
   ]
  },
  {
   "cell_type": "code",
   "execution_count": null,
   "metadata": {},
   "outputs": [],
   "source": []
  }
 ],
 "metadata": {
  "kernelspec": {
   "display_name": "Python 3",
   "language": "python",
   "name": "python3"
  },
  "language_info": {
   "codemirror_mode": {
    "name": "ipython",
    "version": 3
   },
   "file_extension": ".py",
   "mimetype": "text/x-python",
   "name": "python",
   "nbconvert_exporter": "python",
   "pygments_lexer": "ipython3",
   "version": "3.6.4"
  }
 },
 "nbformat": 4,
 "nbformat_minor": 2
}
